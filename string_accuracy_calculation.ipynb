{
  "nbformat": 4,
  "nbformat_minor": 0,
  "metadata": {
    "colab": {
      "provenance": [],
      "authorship_tag": "ABX9TyOfXif621Sc/Z8pMfEySn6q"
    },
    "kernelspec": {
      "name": "python3",
      "display_name": "Python 3"
    },
    "language_info": {
      "name": "python"
    }
  },
  "cells": [
    {
      "cell_type": "code",
      "execution_count": 15,
      "metadata": {
        "colab": {
          "base_uri": "https://localhost:8080/"
        },
        "id": "Pn6I7AS0nrYC",
        "outputId": "24a0f767-03b9-4bac-85de-9e8aa6b65007"
      },
      "outputs": [
        {
          "output_type": "execute_result",
          "data": {
            "text/plain": [
              "0.3333333333333333"
            ]
          },
          "metadata": {},
          "execution_count": 15
        }
      ],
      "source": [
        "# calculation of the macro average f1 for lists\n",
        "from sklearn.metrics import f1_score\n",
        "\n",
        "f1_score(['a','b','c'],['a','c','b'],average='macro')\n"
      ]
    },
    {
      "cell_type": "code",
      "source": [
        "pip install jiwer"
      ],
      "metadata": {
        "id": "zGPpW_dfo5q-"
      },
      "execution_count": null,
      "outputs": []
    },
    {
      "cell_type": "code",
      "source": [
        "from jiwer import wer\n",
        "\n",
        "ground_truth = \"hello world\"\n",
        "hypothesis = \"hello duck\"\n",
        "\n",
        "error = wer(ground_truth, hypothesis)\n",
        "error"
      ],
      "metadata": {
        "colab": {
          "base_uri": "https://localhost:8080/"
        },
        "id": "HGeLQ53NonbH",
        "outputId": "2f9cbafe-b387-4047-db9f-8a0f8d703edd"
      },
      "execution_count": 5,
      "outputs": [
        {
          "output_type": "execute_result",
          "data": {
            "text/plain": [
              "0.5"
            ]
          },
          "metadata": {},
          "execution_count": 5
        }
      ]
    },
    {
      "cell_type": "code",
      "source": [
        "#https://pypi.org/project/jiwer/\n",
        "#cer  (character error rate) and wer (word error rate) calculation for russian language\n",
        "\n",
        "from jiwer import cer,wer\n",
        "\n",
        "ground_truth = [\"я могу говорить\", \"я надеюсь\"]\n",
        "hypothesis = [\"я могу говорить\", \"я надежда\"]\n",
        "\n",
        "error_cer = cer(ground_truth, hypothesis)\n",
        "error_wer = wer(ground_truth, hypothesis)\n",
        "\n",
        "print ('cer', error_cer, 'wer', error_wer)"
      ],
      "metadata": {
        "colab": {
          "base_uri": "https://localhost:8080/"
        },
        "id": "Xf8krckcqLxp",
        "outputId": "a92b67ee-f7e9-4300-8995-800096e78808"
      },
      "execution_count": 19,
      "outputs": [
        {
          "output_type": "stream",
          "name": "stdout",
          "text": [
            "cer 0.125 wer 0.2\n"
          ]
        }
      ]
    }
  ]
}