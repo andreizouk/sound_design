{
  "nbformat": 4,
  "nbformat_minor": 0,
  "metadata": {
    "colab": {
      "provenance": [],
      "authorship_tag": "ABX9TyOZsLw6Ieg+yxfXffkWNnKe"
    },
    "kernelspec": {
      "name": "python3",
      "display_name": "Python 3"
    },
    "language_info": {
      "name": "python"
    }
  },
  "cells": [
    {
      "cell_type": "code",
      "execution_count": 1,
      "metadata": {
        "colab": {
          "base_uri": "https://localhost:8080/"
        },
        "id": "Pn6I7AS0nrYC",
        "outputId": "8d0b15fe-856c-4113-e9fe-82f6d5746099"
      },
      "outputs": [
        {
          "output_type": "execute_result",
          "data": {
            "text/plain": [
              "0.3333333333333333"
            ]
          },
          "metadata": {},
          "execution_count": 1
        }
      ],
      "source": [
        "from sklearn.metrics import f1_score\n",
        "\n",
        "f1_score(['a','b','c'],['a','c','b'],average='macro')\n"
      ]
    },
    {
      "cell_type": "code",
      "source": [
        "pip install jiwer"
      ],
      "metadata": {
        "id": "zGPpW_dfo5q-"
      },
      "execution_count": null,
      "outputs": []
    },
    {
      "cell_type": "code",
      "source": [
        "\n",
        "from jiwer import wer\n",
        "\n",
        "ground_truth = \"hello world\"\n",
        "hypothesis = \"hello duck\"\n",
        "\n",
        "error = wer(ground_truth, hypothesis)\n",
        "error"
      ],
      "metadata": {
        "colab": {
          "base_uri": "https://localhost:8080/"
        },
        "id": "HGeLQ53NonbH",
        "outputId": "2f9cbafe-b387-4047-db9f-8a0f8d703edd"
      },
      "execution_count": 5,
      "outputs": [
        {
          "output_type": "execute_result",
          "data": {
            "text/plain": [
              "0.5"
            ]
          },
          "metadata": {},
          "execution_count": 5
        }
      ]
    },
    {
      "cell_type": "code",
      "source": [
        "import jiwer\n",
        "\n",
        "ground_truth = [\"hello world\", \"i like monthy python\"]\n",
        "hypothesis = [\"hello duck\", \"i like python\"]\n",
        "\n",
        "\n",
        "# faster, because `compute_measures` only needs to perform the heavy lifting once:\n",
        "measures = jiwer.compute_measures(ground_truth, hypothesis)\n",
        "wer = measures['wer']\n",
        "mer = measures['mer']\n",
        "wil = measures['wil']\n",
        "#cer = measures['cer']\n",
        "\n",
        "print ('wer', wer, 'mer', mer, 'wil',wil)#, 'cer', cer)"
      ],
      "metadata": {
        "colab": {
          "base_uri": "https://localhost:8080/"
        },
        "id": "hgwM5Q69pJLu",
        "outputId": "8496e20f-b0a8-4cad-d1a1-a8652a446a2f"
      },
      "execution_count": 10,
      "outputs": [
        {
          "output_type": "stream",
          "name": "stdout",
          "text": [
            "wer 0.3333333333333333 mer 0.3333333333333333 wil 0.4666666666666667\n"
          ]
        }
      ]
    },
    {
      "cell_type": "code",
      "source": [
        "#https://pypi.org/project/jiwer/\n",
        "\n",
        "\n",
        "from jiwer import cer\n",
        "\n",
        "ground_truth = [\"i can spell\", \"i hope\"]\n",
        "hypothesis = [\"i kan cpell\", \"i hop\"]\n",
        "\n",
        "error = cer(ground_truth, hypothesis)\n",
        "error"
      ],
      "metadata": {
        "colab": {
          "base_uri": "https://localhost:8080/"
        },
        "id": "Xf8krckcqLxp",
        "outputId": "f7d3fda2-ef8c-4c55-93cb-180ac3048f19"
      },
      "execution_count": 12,
      "outputs": [
        {
          "output_type": "execute_result",
          "data": {
            "text/plain": [
              "0.17647058823529413"
            ]
          },
          "metadata": {},
          "execution_count": 12
        }
      ]
    }
  ]
}